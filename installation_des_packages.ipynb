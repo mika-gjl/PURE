{
  "nbformat": 4,
  "nbformat_minor": 0,
  "metadata": {
    "colab": {
      "provenance": [],
      "gpuType": "T4"
    },
    "kernelspec": {
      "name": "python3",
      "display_name": "Python 3"
    },
    "language_info": {
      "name": "python"
    },
    "accelerator": "GPU"
  },
  "cells": [
    {
      "cell_type": "code",
      "execution_count": null,
      "metadata": {
        "colab": {
          "base_uri": "https://localhost:8080/"
        },
        "id": "8D3g3j2ryywK",
        "outputId": "2c0d927e-d8a5-4d73-e7c2-dba94df750fc"
      },
      "outputs": [
        {
          "output_type": "stream",
          "name": "stdout",
          "text": [
            "Drive already mounted at /content/drive; to attempt to forcibly remount, call drive.mount(\"/content/drive\", force_remount=True).\n"
          ]
        }
      ],
      "source": [
        "from google.colab import drive\n",
        "drive.mount('/content/drive')"
      ]
    },
    {
      "cell_type": "code",
      "source": [
        "!mkdir -p /content/drive/MyDrive/PURE"
      ],
      "metadata": {
        "id": "NyCtTi6z9nHf"
      },
      "execution_count": null,
      "outputs": []
    },
    {
      "cell_type": "code",
      "source": [
        "!git clone https://github.com/mika-gjl/PURE.git /content/drive/MyDrive/PURE/PURE"
      ],
      "metadata": {
        "colab": {
          "base_uri": "https://localhost:8080/"
        },
        "id": "jUaREbD49oUW",
        "outputId": "db979337-71aa-46ea-87e0-3894dca86053"
      },
      "execution_count": null,
      "outputs": [
        {
          "output_type": "stream",
          "name": "stdout",
          "text": [
            "Cloning into '/content/drive/MyDrive/PURE/PURE'...\n",
            "remote: Enumerating objects: 95, done.\u001b[K\n",
            "remote: Counting objects: 100% (95/95), done.\u001b[K\n",
            "remote: Compressing objects: 100% (55/55), done.\u001b[K\n",
            "remote: Total 95 (delta 45), reused 84 (delta 34), pack-reused 0 (from 0)\u001b[K\n",
            "Receiving objects: 100% (95/95), 2.48 MiB | 10.84 MiB/s, done.\n",
            "Resolving deltas: 100% (45/45), done.\n"
          ]
        }
      ]
    },
    {
      "cell_type": "code",
      "source": [
        "!sudo apt update\n",
        "!sudo apt install -y python3.10 python3.10-distutils python3.10-dev\n",
        "!curl -sS https://bootstrap.pypa.io/get-pip.py | sudo python3.10\n"
      ],
      "metadata": {
        "colab": {
          "base_uri": "https://localhost:8080/"
        },
        "id": "VbiJMayZDxkq",
        "outputId": "75268239-60b8-4745-d047-018edc8c116a"
      },
      "execution_count": null,
      "outputs": [
        {
          "output_type": "stream",
          "name": "stdout",
          "text": [
            "Hit:1 https://developer.download.nvidia.com/compute/cuda/repos/ubuntu2204/x86_64  InRelease\n",
            "Hit:2 https://cli.github.com/packages stable InRelease\n",
            "Hit:3 http://archive.ubuntu.com/ubuntu jammy InRelease\n",
            "Hit:4 https://cloud.r-project.org/bin/linux/ubuntu jammy-cran40/ InRelease\n",
            "Get:5 http://security.ubuntu.com/ubuntu jammy-security InRelease [129 kB]\n",
            "Get:6 http://archive.ubuntu.com/ubuntu jammy-updates InRelease [128 kB]\n",
            "Get:7 https://r2u.stat.illinois.edu/ubuntu jammy InRelease [6,555 B]\n",
            "Hit:8 https://ppa.launchpadcontent.net/deadsnakes/ppa/ubuntu jammy InRelease\n",
            "Hit:9 https://ppa.launchpadcontent.net/graphics-drivers/ppa/ubuntu jammy InRelease\n",
            "Get:10 https://r2u.stat.illinois.edu/ubuntu jammy/main amd64 Packages [2,780 kB]\n",
            "Hit:11 https://ppa.launchpadcontent.net/ubuntugis/ppa/ubuntu jammy InRelease\n",
            "Hit:12 http://archive.ubuntu.com/ubuntu jammy-backports InRelease\n",
            "Get:13 https://r2u.stat.illinois.edu/ubuntu jammy/main all Packages [9,190 kB]\n",
            "Fetched 12.2 MB in 4s (3,112 kB/s)\n",
            "Reading package lists... Done\n",
            "Building dependency tree... Done\n",
            "Reading state information... Done\n",
            "43 packages can be upgraded. Run 'apt list --upgradable' to see them.\n",
            "\u001b[1;33mW: \u001b[0mSkipping acquire of configured file 'main/source/Sources' as repository 'https://r2u.stat.illinois.edu/ubuntu jammy InRelease' does not seem to provide it (sources.list entry misspelt?)\u001b[0m\n",
            "Reading package lists... Done\n",
            "Building dependency tree... Done\n",
            "Reading state information... Done\n",
            "Note, selecting 'python3-distutils' instead of 'python3.10-distutils'\n",
            "python3-distutils is already the newest version (3.10.8-1~22.04).\n",
            "python3.10 is already the newest version (3.10.12-1~22.04.11).\n",
            "python3.10 set to manually installed.\n",
            "python3.10-dev is already the newest version (3.10.12-1~22.04.11).\n",
            "python3.10-dev set to manually installed.\n",
            "0 upgraded, 0 newly installed, 0 to remove and 43 not upgraded.\n",
            "Collecting pip\n",
            "  Using cached pip-25.2-py3-none-any.whl.metadata (4.7 kB)\n",
            "Using cached pip-25.2-py3-none-any.whl (1.8 MB)\n",
            "Installing collected packages: pip\n",
            "  Attempting uninstall: pip\n",
            "    Found existing installation: pip 25.2\n",
            "    Uninstalling pip-25.2:\n",
            "      Successfully uninstalled pip-25.2\n",
            "Successfully installed pip-25.2\n"
          ]
        }
      ]
    },
    {
      "cell_type": "code",
      "source": [
        "# 安装 tokenizers 需要 rustc\n",
        "!sudo apt install -y rustc cargo\n",
        "\n",
        "# 使用 python3.10 安装指定版本\n",
        "!/usr/bin/python3.10 -m pip install -U pip setuptools wheel\n",
        "!/usr/bin/python3.10 -m pip install tqdm==4.67.1\n",
        "!/usr/bin/python3.10 -m pip install torch==1.12.1 --index-url https://download.pytorch.org/whl/cu113\n",
        "!/usr/bin/python3.10 -m pip install allennlp==2.10.1\n",
        "!/usr/bin/python3.10 -m pip install transformers==4.20.1 tokenizers==0.12.1\n"
      ],
      "metadata": {
        "colab": {
          "base_uri": "https://localhost:8080/"
        },
        "id": "csXTapr9D1RS",
        "outputId": "74c891af-40f0-49d6-cff9-ec30cda0b85a"
      },
      "execution_count": null,
      "outputs": [
        {
          "output_type": "stream",
          "name": "stdout",
          "text": [
            "Reading package lists... Done\n",
            "Building dependency tree... Done\n",
            "Reading state information... Done\n",
            "rustc is already the newest version (1.75.0+dfsg0ubuntu1~bpo0-0ubuntu0.22.04).\n",
            "cargo is already the newest version (1.75.0+dfsg0ubuntu1~bpo0-0ubuntu0.22.04).\n",
            "0 upgraded, 0 newly installed, 0 to remove and 43 not upgraded.\n",
            "Requirement already satisfied: pip in /usr/local/lib/python3.10/dist-packages (25.2)\n",
            "Requirement already satisfied: setuptools in /usr/local/lib/python3.10/dist-packages (80.9.0)\n",
            "Requirement already satisfied: wheel in /usr/local/lib/python3.10/dist-packages (0.45.1)\n",
            "Requirement already satisfied: tqdm==4.67.1 in /usr/local/lib/python3.10/dist-packages (4.67.1)\n",
            "Looking in indexes: https://download.pytorch.org/whl/cu113\n",
            "Requirement already satisfied: torch==1.12.1 in /usr/local/lib/python3.10/dist-packages (1.12.1+cu113)\n",
            "Requirement already satisfied: typing-extensions in /usr/local/lib/python3.10/dist-packages (from torch==1.12.1) (4.5.0)\n",
            "Requirement already satisfied: allennlp==2.10.1 in /usr/local/lib/python3.10/dist-packages (2.10.1)\n",
            "Requirement already satisfied: torch<1.13.0,>=1.10.0 in /usr/local/lib/python3.10/dist-packages (from allennlp==2.10.1) (1.12.1+cu113)\n",
            "Requirement already satisfied: torchvision<0.14.0,>=0.8.1 in /usr/local/lib/python3.10/dist-packages (from allennlp==2.10.1) (0.13.1)\n",
            "Requirement already satisfied: cached-path<1.2.0,>=1.1.3 in /usr/local/lib/python3.10/dist-packages (from allennlp==2.10.1) (1.1.6)\n",
            "Requirement already satisfied: fairscale==0.4.6 in /usr/local/lib/python3.10/dist-packages (from allennlp==2.10.1) (0.4.6)\n",
            "Requirement already satisfied: nltk>=3.6.5 in /usr/local/lib/python3.10/dist-packages (from allennlp==2.10.1) (3.9.1)\n",
            "Requirement already satisfied: spacy<3.4,>=2.1.0 in /usr/local/lib/python3.10/dist-packages (from allennlp==2.10.1) (3.3.3)\n",
            "Requirement already satisfied: numpy>=1.21.4 in /usr/local/lib/python3.10/dist-packages (from allennlp==2.10.1) (1.23.5)\n",
            "Requirement already satisfied: tensorboardX>=1.2 in /usr/local/lib/python3.10/dist-packages (from allennlp==2.10.1) (2.6.4)\n",
            "Requirement already satisfied: requests>=2.28 in /usr/local/lib/python3.10/dist-packages (from allennlp==2.10.1) (2.32.5)\n",
            "Requirement already satisfied: tqdm>=4.62 in /usr/local/lib/python3.10/dist-packages (from allennlp==2.10.1) (4.67.1)\n",
            "Requirement already satisfied: h5py>=3.6.0 in /usr/local/lib/python3.10/dist-packages (from allennlp==2.10.1) (3.14.0)\n",
            "Requirement already satisfied: scikit-learn>=1.0.1 in /usr/local/lib/python3.10/dist-packages (from allennlp==2.10.1) (1.7.1)\n",
            "Requirement already satisfied: scipy>=1.7.3 in /usr/local/lib/python3.10/dist-packages (from allennlp==2.10.1) (1.15.3)\n",
            "Requirement already satisfied: pytest>=6.2.5 in /usr/local/lib/python3.10/dist-packages (from allennlp==2.10.1) (8.4.1)\n",
            "Requirement already satisfied: transformers<4.21,>=4.1 in /usr/local/lib/python3.10/dist-packages (from allennlp==2.10.1) (4.20.1)\n",
            "Requirement already satisfied: sentencepiece>=0.1.96 in /usr/local/lib/python3.10/dist-packages (from allennlp==2.10.1) (0.2.1)\n",
            "Requirement already satisfied: filelock<3.8,>=3.3 in /usr/local/lib/python3.10/dist-packages (from allennlp==2.10.1) (3.7.1)\n",
            "Requirement already satisfied: lmdb>=1.2.1 in /usr/local/lib/python3.10/dist-packages (from allennlp==2.10.1) (1.7.3)\n",
            "Requirement already satisfied: more-itertools>=8.12.0 in /usr/local/lib/python3.10/dist-packages (from allennlp==2.10.1) (10.7.0)\n",
            "Requirement already satisfied: termcolor==1.1.0 in /usr/local/lib/python3.10/dist-packages (from allennlp==2.10.1) (1.1.0)\n",
            "Requirement already satisfied: wandb<0.13.0,>=0.10.0 in /usr/local/lib/python3.10/dist-packages (from allennlp==2.10.1) (0.12.21)\n",
            "Requirement already satisfied: huggingface-hub>=0.0.16 in /usr/local/lib/python3.10/dist-packages (from allennlp==2.10.1) (0.10.1)\n",
            "Requirement already satisfied: dill>=0.3.4 in /usr/local/lib/python3.10/dist-packages (from allennlp==2.10.1) (0.4.0)\n",
            "Requirement already satisfied: base58>=2.1.1 in /usr/local/lib/python3.10/dist-packages (from allennlp==2.10.1) (2.1.1)\n",
            "Requirement already satisfied: sacremoses in /usr/local/lib/python3.10/dist-packages (from allennlp==2.10.1) (0.1.1)\n",
            "Requirement already satisfied: typer>=0.4.1 in /usr/local/lib/python3.10/dist-packages (from allennlp==2.10.1) (0.4.2)\n",
            "Requirement already satisfied: protobuf<4.0.0,>=3.12.0 in /usr/local/lib/python3.10/dist-packages (from allennlp==2.10.1) (3.20.3)\n",
            "Requirement already satisfied: traitlets>5.1.1 in /usr/local/lib/python3.10/dist-packages (from allennlp==2.10.1) (5.14.3)\n",
            "Requirement already satisfied: jsonnet>=0.10.0 in /usr/local/lib/python3.10/dist-packages (from allennlp==2.10.1) (0.21.0)\n",
            "Requirement already satisfied: rich<13.0,>=12.1 in /usr/local/lib/python3.10/dist-packages (from cached-path<1.2.0,>=1.1.3->allennlp==2.10.1) (12.6.0)\n",
            "Requirement already satisfied: boto3<2.0,>=1.0 in /usr/local/lib/python3.10/dist-packages (from cached-path<1.2.0,>=1.1.3->allennlp==2.10.1) (1.40.15)\n",
            "Requirement already satisfied: google-cloud-storage<3.0,>=1.32.0 in /usr/local/lib/python3.10/dist-packages (from cached-path<1.2.0,>=1.1.3->allennlp==2.10.1) (2.19.0)\n",
            "Requirement already satisfied: botocore<1.41.0,>=1.40.15 in /usr/local/lib/python3.10/dist-packages (from boto3<2.0,>=1.0->cached-path<1.2.0,>=1.1.3->allennlp==2.10.1) (1.40.15)\n",
            "Requirement already satisfied: jmespath<2.0.0,>=0.7.1 in /usr/local/lib/python3.10/dist-packages (from boto3<2.0,>=1.0->cached-path<1.2.0,>=1.1.3->allennlp==2.10.1) (1.0.1)\n",
            "Requirement already satisfied: s3transfer<0.14.0,>=0.13.0 in /usr/local/lib/python3.10/dist-packages (from boto3<2.0,>=1.0->cached-path<1.2.0,>=1.1.3->allennlp==2.10.1) (0.13.1)\n",
            "Requirement already satisfied: python-dateutil<3.0.0,>=2.1 in /usr/local/lib/python3.10/dist-packages (from botocore<1.41.0,>=1.40.15->boto3<2.0,>=1.0->cached-path<1.2.0,>=1.1.3->allennlp==2.10.1) (2.9.0.post0)\n",
            "Requirement already satisfied: urllib3!=2.2.0,<3,>=1.25.4 in /usr/local/lib/python3.10/dist-packages (from botocore<1.41.0,>=1.40.15->boto3<2.0,>=1.0->cached-path<1.2.0,>=1.1.3->allennlp==2.10.1) (2.5.0)\n",
            "Requirement already satisfied: google-auth<3.0dev,>=2.26.1 in /usr/local/lib/python3.10/dist-packages (from google-cloud-storage<3.0,>=1.32.0->cached-path<1.2.0,>=1.1.3->allennlp==2.10.1) (2.40.3)\n",
            "Requirement already satisfied: google-api-core<3.0.0dev,>=2.15.0 in /usr/local/lib/python3.10/dist-packages (from google-cloud-storage<3.0,>=1.32.0->cached-path<1.2.0,>=1.1.3->allennlp==2.10.1) (2.25.1)\n",
            "Requirement already satisfied: google-cloud-core<3.0dev,>=2.3.0 in /usr/local/lib/python3.10/dist-packages (from google-cloud-storage<3.0,>=1.32.0->cached-path<1.2.0,>=1.1.3->allennlp==2.10.1) (2.4.3)\n",
            "Requirement already satisfied: google-resumable-media>=2.7.2 in /usr/local/lib/python3.10/dist-packages (from google-cloud-storage<3.0,>=1.32.0->cached-path<1.2.0,>=1.1.3->allennlp==2.10.1) (2.7.2)\n",
            "Requirement already satisfied: google-crc32c<2.0dev,>=1.0 in /usr/local/lib/python3.10/dist-packages (from google-cloud-storage<3.0,>=1.32.0->cached-path<1.2.0,>=1.1.3->allennlp==2.10.1) (1.7.1)\n",
            "Requirement already satisfied: googleapis-common-protos<2.0.0,>=1.56.2 in /usr/local/lib/python3.10/dist-packages (from google-api-core<3.0.0dev,>=2.15.0->google-cloud-storage<3.0,>=1.32.0->cached-path<1.2.0,>=1.1.3->allennlp==2.10.1) (1.70.0)\n",
            "Requirement already satisfied: proto-plus<2.0.0,>=1.22.3 in /usr/local/lib/python3.10/dist-packages (from google-api-core<3.0.0dev,>=2.15.0->google-cloud-storage<3.0,>=1.32.0->cached-path<1.2.0,>=1.1.3->allennlp==2.10.1) (1.26.1)\n",
            "Requirement already satisfied: cachetools<6.0,>=2.0.0 in /usr/local/lib/python3.10/dist-packages (from google-auth<3.0dev,>=2.26.1->google-cloud-storage<3.0,>=1.32.0->cached-path<1.2.0,>=1.1.3->allennlp==2.10.1) (5.5.2)\n",
            "Requirement already satisfied: pyasn1-modules>=0.2.1 in /usr/local/lib/python3.10/dist-packages (from google-auth<3.0dev,>=2.26.1->google-cloud-storage<3.0,>=1.32.0->cached-path<1.2.0,>=1.1.3->allennlp==2.10.1) (0.4.2)\n",
            "Requirement already satisfied: rsa<5,>=3.1.4 in /usr/local/lib/python3.10/dist-packages (from google-auth<3.0dev,>=2.26.1->google-cloud-storage<3.0,>=1.32.0->cached-path<1.2.0,>=1.1.3->allennlp==2.10.1) (4.9.1)\n",
            "Requirement already satisfied: pyyaml>=5.1 in /usr/local/lib/python3.10/dist-packages (from huggingface-hub>=0.0.16->allennlp==2.10.1) (6.0.2)\n",
            "Requirement already satisfied: typing-extensions>=3.7.4.3 in /usr/local/lib/python3.10/dist-packages (from huggingface-hub>=0.0.16->allennlp==2.10.1) (4.5.0)\n",
            "Requirement already satisfied: packaging>=20.9 in /usr/local/lib/python3.10/dist-packages (from huggingface-hub>=0.0.16->allennlp==2.10.1) (25.0)\n",
            "Requirement already satisfied: six>=1.5 in /usr/lib/python3/dist-packages (from python-dateutil<3.0.0,>=2.1->botocore<1.41.0,>=1.40.15->boto3<2.0,>=1.0->cached-path<1.2.0,>=1.1.3->allennlp==2.10.1) (1.16.0)\n",
            "Requirement already satisfied: charset_normalizer<4,>=2 in /usr/local/lib/python3.10/dist-packages (from requests>=2.28->allennlp==2.10.1) (3.4.3)\n",
            "Requirement already satisfied: idna<4,>=2.5 in /usr/local/lib/python3.10/dist-packages (from requests>=2.28->allennlp==2.10.1) (3.10)\n",
            "Requirement already satisfied: certifi>=2017.4.17 in /usr/local/lib/python3.10/dist-packages (from requests>=2.28->allennlp==2.10.1) (2025.8.3)\n",
            "Requirement already satisfied: commonmark<0.10.0,>=0.9.0 in /usr/local/lib/python3.10/dist-packages (from rich<13.0,>=12.1->cached-path<1.2.0,>=1.1.3->allennlp==2.10.1) (0.9.1)\n",
            "Requirement already satisfied: pygments<3.0.0,>=2.6.0 in /usr/local/lib/python3.10/dist-packages (from rich<13.0,>=12.1->cached-path<1.2.0,>=1.1.3->allennlp==2.10.1) (2.19.2)\n",
            "Requirement already satisfied: pyasn1>=0.1.3 in /usr/local/lib/python3.10/dist-packages (from rsa<5,>=3.1.4->google-auth<3.0dev,>=2.26.1->google-cloud-storage<3.0,>=1.32.0->cached-path<1.2.0,>=1.1.3->allennlp==2.10.1) (0.6.1)\n",
            "Requirement already satisfied: spacy-legacy<3.1.0,>=3.0.9 in /usr/local/lib/python3.10/dist-packages (from spacy<3.4,>=2.1.0->allennlp==2.10.1) (3.0.12)\n",
            "Requirement already satisfied: spacy-loggers<2.0.0,>=1.0.0 in /usr/local/lib/python3.10/dist-packages (from spacy<3.4,>=2.1.0->allennlp==2.10.1) (1.0.5)\n",
            "Requirement already satisfied: murmurhash<1.1.0,>=0.28.0 in /usr/local/lib/python3.10/dist-packages (from spacy<3.4,>=2.1.0->allennlp==2.10.1) (1.0.13)\n",
            "Requirement already satisfied: cymem<2.1.0,>=2.0.2 in /usr/local/lib/python3.10/dist-packages (from spacy<3.4,>=2.1.0->allennlp==2.10.1) (2.0.11)\n",
            "Requirement already satisfied: preshed<3.1.0,>=3.0.2 in /usr/local/lib/python3.10/dist-packages (from spacy<3.4,>=2.1.0->allennlp==2.10.1) (3.0.10)\n",
            "Requirement already satisfied: thinc<8.1.0,>=8.0.14 in /usr/local/lib/python3.10/dist-packages (from spacy<3.4,>=2.1.0->allennlp==2.10.1) (8.0.17)\n",
            "Requirement already satisfied: blis<0.8.0,>=0.4.0 in /usr/local/lib/python3.10/dist-packages (from spacy<3.4,>=2.1.0->allennlp==2.10.1) (0.7.11)\n",
            "Requirement already satisfied: wasabi<1.1.0,>=0.9.1 in /usr/local/lib/python3.10/dist-packages (from spacy<3.4,>=2.1.0->allennlp==2.10.1) (0.10.1)\n",
            "Requirement already satisfied: srsly<3.0.0,>=2.4.3 in /usr/local/lib/python3.10/dist-packages (from spacy<3.4,>=2.1.0->allennlp==2.10.1) (2.5.1)\n",
            "Requirement already satisfied: catalogue<2.1.0,>=2.0.6 in /usr/local/lib/python3.10/dist-packages (from spacy<3.4,>=2.1.0->allennlp==2.10.1) (2.0.10)\n",
            "Requirement already satisfied: pathy>=0.3.5 in /usr/local/lib/python3.10/dist-packages (from spacy<3.4,>=2.1.0->allennlp==2.10.1) (0.11.0)\n",
            "Requirement already satisfied: smart-open<7.0.0,>=5.2.1 in /usr/local/lib/python3.10/dist-packages (from spacy<3.4,>=2.1.0->allennlp==2.10.1) (6.4.0)\n",
            "Requirement already satisfied: pydantic!=1.8,!=1.8.1,<1.9.0,>=1.7.4 in /usr/local/lib/python3.10/dist-packages (from spacy<3.4,>=2.1.0->allennlp==2.10.1) (1.8.2)\n",
            "Requirement already satisfied: jinja2 in /usr/local/lib/python3.10/dist-packages (from spacy<3.4,>=2.1.0->allennlp==2.10.1) (3.1.6)\n",
            "Requirement already satisfied: setuptools in /usr/local/lib/python3.10/dist-packages (from spacy<3.4,>=2.1.0->allennlp==2.10.1) (80.9.0)\n",
            "Requirement already satisfied: langcodes<4.0.0,>=3.2.0 in /usr/local/lib/python3.10/dist-packages (from spacy<3.4,>=2.1.0->allennlp==2.10.1) (3.5.0)\n",
            "Requirement already satisfied: language-data>=1.2 in /usr/local/lib/python3.10/dist-packages (from langcodes<4.0.0,>=3.2.0->spacy<3.4,>=2.1.0->allennlp==2.10.1) (1.3.0)\n",
            "Requirement already satisfied: pillow!=8.3.*,>=5.3.0 in /usr/local/lib/python3.10/dist-packages (from torchvision<0.14.0,>=0.8.1->allennlp==2.10.1) (11.3.0)\n",
            "Requirement already satisfied: regex!=2019.12.17 in /usr/local/lib/python3.10/dist-packages (from transformers<4.21,>=4.1->allennlp==2.10.1) (2025.7.34)\n",
            "Requirement already satisfied: tokenizers!=0.11.3,<0.13,>=0.11.1 in /usr/local/lib/python3.10/dist-packages (from transformers<4.21,>=4.1->allennlp==2.10.1) (0.12.1)\n",
            "Requirement already satisfied: click<9.0.0,>=7.1.1 in /usr/local/lib/python3.10/dist-packages (from typer>=0.4.1->allennlp==2.10.1) (8.2.1)\n",
            "Requirement already satisfied: GitPython>=1.0.0 in /usr/local/lib/python3.10/dist-packages (from wandb<0.13.0,>=0.10.0->allennlp==2.10.1) (3.1.45)\n",
            "Requirement already satisfied: promise<3,>=2.0 in /usr/local/lib/python3.10/dist-packages (from wandb<0.13.0,>=0.10.0->allennlp==2.10.1) (2.3)\n",
            "Requirement already satisfied: shortuuid>=0.5.0 in /usr/local/lib/python3.10/dist-packages (from wandb<0.13.0,>=0.10.0->allennlp==2.10.1) (1.0.13)\n",
            "Requirement already satisfied: psutil>=5.0.0 in /usr/local/lib/python3.10/dist-packages (from wandb<0.13.0,>=0.10.0->allennlp==2.10.1) (7.0.0)\n",
            "Requirement already satisfied: sentry-sdk>=1.0.0 in /usr/local/lib/python3.10/dist-packages (from wandb<0.13.0,>=0.10.0->allennlp==2.10.1) (2.35.0)\n",
            "Requirement already satisfied: docker-pycreds>=0.4.0 in /usr/local/lib/python3.10/dist-packages (from wandb<0.13.0,>=0.10.0->allennlp==2.10.1) (0.4.0)\n",
            "Requirement already satisfied: pathtools in /usr/local/lib/python3.10/dist-packages (from wandb<0.13.0,>=0.10.0->allennlp==2.10.1) (0.1.2)\n",
            "Requirement already satisfied: setproctitle in /usr/local/lib/python3.10/dist-packages (from wandb<0.13.0,>=0.10.0->allennlp==2.10.1) (1.3.6)\n",
            "Requirement already satisfied: gitdb<5,>=4.0.1 in /usr/local/lib/python3.10/dist-packages (from GitPython>=1.0.0->wandb<0.13.0,>=0.10.0->allennlp==2.10.1) (4.0.12)\n",
            "Requirement already satisfied: smmap<6,>=3.0.1 in /usr/local/lib/python3.10/dist-packages (from gitdb<5,>=4.0.1->GitPython>=1.0.0->wandb<0.13.0,>=0.10.0->allennlp==2.10.1) (5.0.2)\n",
            "Requirement already satisfied: marisa-trie>=1.1.0 in /usr/local/lib/python3.10/dist-packages (from language-data>=1.2->langcodes<4.0.0,>=3.2.0->spacy<3.4,>=2.1.0->allennlp==2.10.1) (1.3.0)\n",
            "Requirement already satisfied: joblib in /usr/local/lib/python3.10/dist-packages (from nltk>=3.6.5->allennlp==2.10.1) (1.5.1)\n",
            "Requirement already satisfied: pathlib-abc==0.1.1 in /usr/local/lib/python3.10/dist-packages (from pathy>=0.3.5->spacy<3.4,>=2.1.0->allennlp==2.10.1) (0.1.1)\n",
            "Requirement already satisfied: exceptiongroup>=1 in /usr/local/lib/python3.10/dist-packages (from pytest>=6.2.5->allennlp==2.10.1) (1.2.2)\n",
            "Requirement already satisfied: iniconfig>=1 in /usr/local/lib/python3.10/dist-packages (from pytest>=6.2.5->allennlp==2.10.1) (2.1.0)\n",
            "Requirement already satisfied: pluggy<2,>=1.5 in /usr/local/lib/python3.10/dist-packages (from pytest>=6.2.5->allennlp==2.10.1) (1.6.0)\n",
            "Requirement already satisfied: tomli>=1 in /usr/local/lib/python3.10/dist-packages (from pytest>=6.2.5->allennlp==2.10.1) (2.2.1)\n",
            "Requirement already satisfied: threadpoolctl>=3.1.0 in /usr/local/lib/python3.10/dist-packages (from scikit-learn>=1.0.1->allennlp==2.10.1) (3.6.0)\n",
            "Requirement already satisfied: MarkupSafe>=2.0 in /usr/lib/python3/dist-packages (from jinja2->spacy<3.4,>=2.1.0->allennlp==2.10.1) (2.0.1)\n",
            "Requirement already satisfied: transformers==4.20.1 in /usr/local/lib/python3.10/dist-packages (4.20.1)\n",
            "Requirement already satisfied: tokenizers==0.12.1 in /usr/local/lib/python3.10/dist-packages (0.12.1)\n",
            "Requirement already satisfied: filelock in /usr/local/lib/python3.10/dist-packages (from transformers==4.20.1) (3.7.1)\n",
            "Requirement already satisfied: huggingface-hub<1.0,>=0.1.0 in /usr/local/lib/python3.10/dist-packages (from transformers==4.20.1) (0.10.1)\n",
            "Requirement already satisfied: numpy>=1.17 in /usr/local/lib/python3.10/dist-packages (from transformers==4.20.1) (1.23.5)\n",
            "Requirement already satisfied: packaging>=20.0 in /usr/local/lib/python3.10/dist-packages (from transformers==4.20.1) (25.0)\n",
            "Requirement already satisfied: pyyaml>=5.1 in /usr/local/lib/python3.10/dist-packages (from transformers==4.20.1) (6.0.2)\n",
            "Requirement already satisfied: regex!=2019.12.17 in /usr/local/lib/python3.10/dist-packages (from transformers==4.20.1) (2025.7.34)\n",
            "Requirement already satisfied: requests in /usr/local/lib/python3.10/dist-packages (from transformers==4.20.1) (2.32.5)\n",
            "Requirement already satisfied: tqdm>=4.27 in /usr/local/lib/python3.10/dist-packages (from transformers==4.20.1) (4.67.1)\n",
            "Requirement already satisfied: typing-extensions>=3.7.4.3 in /usr/local/lib/python3.10/dist-packages (from huggingface-hub<1.0,>=0.1.0->transformers==4.20.1) (4.5.0)\n",
            "Requirement already satisfied: charset_normalizer<4,>=2 in /usr/local/lib/python3.10/dist-packages (from requests->transformers==4.20.1) (3.4.3)\n",
            "Requirement already satisfied: idna<4,>=2.5 in /usr/local/lib/python3.10/dist-packages (from requests->transformers==4.20.1) (3.10)\n",
            "Requirement already satisfied: urllib3<3,>=1.21.1 in /usr/local/lib/python3.10/dist-packages (from requests->transformers==4.20.1) (2.5.0)\n",
            "Requirement already satisfied: certifi>=2017.4.17 in /usr/local/lib/python3.10/dist-packages (from requests->transformers==4.20.1) (2025.8.3)\n"
          ]
        }
      ]
    },
    {
      "cell_type": "code",
      "source": [
        "!/usr/bin/python3.10 -c \"import sys; print('Python version:', sys.version)\"\n",
        "!/usr/bin/python3.10 -c \"import torch; print('torch:', torch.__version__)\"\n",
        "!/usr/bin/python3.10 -c \\\"from transformers import AutoTokenizer; print('transformers imported OK')\\\"\n"
      ],
      "metadata": {
        "colab": {
          "base_uri": "https://localhost:8080/"
        },
        "id": "Mz-nVCi1EWQq",
        "outputId": "e0f9d661-6c2f-4ba2-966c-3da4d359617d"
      },
      "execution_count": null,
      "outputs": [
        {
          "output_type": "stream",
          "name": "stdout",
          "text": [
            "Python version: 3.10.12 (main, Aug 15 2025, 14:32:43) [GCC 11.4.0]\n",
            "torch: 1.12.1+cu113\n",
            "/bin/bash: -c: line 1: syntax error near unexpected token `'transformers imported OK''\n",
            "/bin/bash: -c: line 1: `/usr/bin/python3.10 -c \\\"from transformers import AutoTokenizer; print('transformers imported OK')\\\"'\n"
          ]
        }
      ]
    },
    {
      "cell_type": "code",
      "source": [
        "!/usr/bin/python3.10 -m pip install numpy==1.23.5\n"
      ],
      "metadata": {
        "colab": {
          "base_uri": "https://localhost:8080/"
        },
        "id": "KdkRSrflF2k0",
        "outputId": "309b54ab-db69-4820-dd67-0b75ffa1504f"
      },
      "execution_count": null,
      "outputs": [
        {
          "output_type": "stream",
          "name": "stdout",
          "text": [
            "Requirement already satisfied: numpy==1.23.5 in /usr/local/lib/python3.10/dist-packages (1.23.5)\n"
          ]
        }
      ]
    },
    {
      "cell_type": "code",
      "source": [
        "code = '''\n",
        "from transformers import CamembertTokenizer, CamembertModel\n",
        "\n",
        "save_path = \"/content/drive/MyDrive/PURE/PURE/camembert-base\"\n",
        "\n",
        "tokenizer = CamembertTokenizer.from_pretrained(\"camembert-base\")\n",
        "model = CamembertModel.from_pretrained(\"camembert-base\")\n",
        "\n",
        "tokenizer.save_pretrained(save_path)\n",
        "model.save_pretrained(save_path)\n",
        "\n",
        "print(\"✅ CamemBERT 模型与 tokenizer 已成功保存到:\", save_path)\n",
        "'''\n",
        "\n",
        "with open(\"download_camembert_310.py\", \"w\") as f:\n",
        "    f.write(code)\n"
      ],
      "metadata": {
        "id": "868DrKPceHos"
      },
      "execution_count": null,
      "outputs": []
    },
    {
      "cell_type": "code",
      "source": [
        "!/usr/bin/python3.10 download_camembert_310.py\n"
      ],
      "metadata": {
        "colab": {
          "base_uri": "https://localhost:8080/"
        },
        "id": "zWWOxXJCevkZ",
        "outputId": "8011a33b-68f4-48ba-c4f3-285e0d6f66e5"
      },
      "execution_count": null,
      "outputs": [
        {
          "output_type": "stream",
          "name": "stdout",
          "text": [
            "Downloading: 100% 792k/792k [00:00<00:00, 6.40MB/s]\n",
            "Downloading: 100% 25.0/25.0 [00:00<00:00, 165kB/s]\n",
            "Downloading: 100% 508/508 [00:00<00:00, 3.38MB/s]\n",
            "Downloading: 100% 424M/424M [00:04<00:00, 93.1MB/s]\n",
            "Some weights of the model checkpoint at camembert-base were not used when initializing CamembertModel: ['lm_head.layer_norm.weight', 'lm_head.layer_norm.bias', 'lm_head.dense.weight', 'lm_head.bias', 'lm_head.dense.bias', 'lm_head.decoder.weight']\n",
            "- This IS expected if you are initializing CamembertModel from the checkpoint of a model trained on another task or with another architecture (e.g. initializing a BertForSequenceClassification model from a BertForPreTraining model).\n",
            "- This IS NOT expected if you are initializing CamembertModel from the checkpoint of a model that you expect to be exactly identical (initializing a BertForSequenceClassification model from a BertForSequenceClassification model).\n",
            "✅ CamemBERT 模型与 tokenizer 已成功保存到: /content/drive/MyDrive/PURE/PURE/camembert-base\n"
          ]
        }
      ]
    },
    {
      "cell_type": "code",
      "source": [
        "/usr/bin/python3.10 run_entity.py \\\n",
        "  --task custom \\\n",
        "  --data_dir \"/content/drive/MyDrive/PURE/PURE/data\" \\\n",
        "  --output_dir \"/content/drive/MyDrive/PURE/PURE/outputs/camembert-base_ctx300\" \\\n",
        "  --model camembert-base \\\n",
        "  --bert_model_dir \"/content/drive/MyDrive/PURE/PURE/camembert-base\" \\\n",
        "  --context_window 0 \\\n",
        "  --max_span_length 8 \\\n",
        "  --train_batch_size 16 \\\n",
        "  --learning_rate 1e-5 \\\n",
        "  --task_learning_rate 5e-4 \\\n",
        "  --num_epoch 100 \\\n",
        "  --warmup_proportion 0.1 \\\n",
        "  --do_train --do_eval --eval_test \\\n",
        "  --train_shuffle \\\n",
        "  --seed 42 \\\n",
        "  --pretokenized\n"
      ],
      "metadata": {
        "colab": {
          "base_uri": "https://localhost:8080/",
          "height": 228
        },
        "id": "Ttkj8sgZEbPh",
        "outputId": "4c65f611-0300-4530-ee6f-29f6f590cc2f"
      },
      "execution_count": null,
      "outputs": [
        {
          "output_type": "error",
          "ename": "SyntaxError",
          "evalue": "invalid syntax (ipython-input-3640340052.py, line 1)",
          "traceback": [
            "\u001b[0;36m  File \u001b[0;32m\"/tmp/ipython-input-3640340052.py\"\u001b[0;36m, line \u001b[0;32m1\u001b[0m\n\u001b[0;31m    usr/bin/python3.10(run_entity.py, --task, custom, --data_dir, \"/content/drive/MyDrive/PURE/PURE/data\", --output_dir, \"/content/drive/MyDrive/PURE/PURE/outputs/camembert-base_ctx300\", --model, camembert-base, --bert_model_dir, \"/content/drive/MyDrive/PURE/PURE/camembert-base\", --context_window, 0, --max_span_length, 8, --train_batch_size, 16, --learning_rate, 1e-5, --task_learning_rate, 5e-4, --num_epoch, 100, --warmup_proportion, 0.1, --do_train, --do_eval, --eval_test, --train_shuffle, --seed, 42, --pretokenized)\u001b[0m\n\u001b[0m                   ^\u001b[0m\n\u001b[0;31mSyntaxError\u001b[0m\u001b[0;31m:\u001b[0m invalid syntax\n"
          ]
        }
      ]
    },
    {
      "cell_type": "code",
      "source": [
        "/usr/bin/python3.10 run_relation.py \\\n",
        "  --task custom \\\n",
        "  --do_train \\\n",
        "  --train_file \"/content/drive/MyDrive/PURE/PURE/data/train_pure.jsonl\" \\\n",
        "  --do_eval \\\n",
        "  --eval_test \\\n",
        "  --model camembert-base \\\n",
        "  --train_batch_size 16 \\\n",
        "  --eval_batch_size 16 \\\n",
        "  --learning_rate 2e-5 \\\n",
        "  --num_train_epochs 5 \\\n",
        "  --context_window 0 \\\n",
        "  --max_seq_length 228 \\\n",
        "  --entity_output_dir \"/content/drive/MyDrive/PURE/PURE/outputs/camembert-base_ctx300\" \\\n",
        "  --output_dir \"/content/drive/MyDrive/PURE/PURE/outputs/relation_model\"\n"
      ],
      "metadata": {
        "id": "BP0Jcx4_LYyf"
      },
      "execution_count": null,
      "outputs": []
    },
    {
      "cell_type": "code",
      "source": [
        "/usr/bin/python3.10 run_relation.py \\\n",
        "  --task custom \\\n",
        "  --do_train \\\n",
        "  --train_file \"/content/drive/MyDrive/PURE/PURE/data/train_pure.jsonl\" \\\n",
        "  --do_eval \\\n",
        "  --eval_test \\\n",
        "  --model camembert-base \\\n",
        "  --train_batch_size 16 \\\n",
        "  --eval_batch_size 16 \\\n",
        "  --learning_rate 2e-5 \\\n",
        "  --num_train_epochs 5 \\\n",
        "  --context_window 0 \\\n",
        "  --max_seq_length 228 \\\n",
        "  --entity_output_dir \"/content/drive/MyDrive/PURE/PURE/outputs/camembert-base_ctx300\" \\\n",
        "  --output_dir \"/content/drive/MyDrive/PURE/PURE/outputs/relation_model\" \\\n",
        "  --prediction_file predictions.json \\\n",
        "  --entity_predictions_test /content/drive/MyDrive/PURE/PURE/outputs/camembert-base_ctx300/ent_pred_test.json\n"
      ],
      "metadata": {
        "id": "EHtOWSaHWBG8"
      },
      "execution_count": null,
      "outputs": []
    },
    {
      "cell_type": "code",
      "source": [
        "/usr/bin/python3.10 run_relation.py \\\n",
        "  --task custom \\\n",
        "  --do_eval \\\n",
        "  --eval_test \\\n",
        "  --model camembert-base \\\n",
        "  --eval_batch_size 16 \\\n",
        "  --context_window 0 \\\n",
        "  --max_seq_length 228 \\\n",
        "  --entity_output_dir \"/content/drive/MyDrive/PURE/PURE/outputs/camembert-base_ctx300\" \\\n",
        "  --output_dir \"/content/drive/MyDrive/PURE/PURE/outputs/relation_model\" \\\n",
        "  --prediction_file predictions.json \\\n",
        "  --entity_predictions_test /content/drive/MyDrive/PURE/PURE/outputs/camembert-base_ctx300/ent_pred_test.json\n"
      ],
      "metadata": {
        "id": "DjFOvT9EwgRL"
      },
      "execution_count": null,
      "outputs": []
    },
    {
      "cell_type": "code",
      "source": [
        "!nvidia-smi\n"
      ],
      "metadata": {
        "colab": {
          "base_uri": "https://localhost:8080/"
        },
        "id": "XXJfUTBZR_l3",
        "outputId": "732657c6-7aa3-480d-b9de-37642a38d9dd"
      },
      "execution_count": null,
      "outputs": [
        {
          "output_type": "stream",
          "name": "stdout",
          "text": [
            "Fri Aug 22 14:56:39 2025       \n",
            "+-----------------------------------------------------------------------------------------+\n",
            "| NVIDIA-SMI 550.54.15              Driver Version: 550.54.15      CUDA Version: 12.4     |\n",
            "|-----------------------------------------+------------------------+----------------------+\n",
            "| GPU  Name                 Persistence-M | Bus-Id          Disp.A | Volatile Uncorr. ECC |\n",
            "| Fan  Temp   Perf          Pwr:Usage/Cap |           Memory-Usage | GPU-Util  Compute M. |\n",
            "|                                         |                        |               MIG M. |\n",
            "|=========================================+========================+======================|\n",
            "|   0  Tesla T4                       Off |   00000000:00:04.0 Off |                    0 |\n",
            "| N/A   77C    P0             72W /   70W |    6148MiB /  15360MiB |     98%      Default |\n",
            "|                                         |                        |                  N/A |\n",
            "+-----------------------------------------+------------------------+----------------------+\n",
            "                                                                                         \n",
            "+-----------------------------------------------------------------------------------------+\n",
            "| Processes:                                                                              |\n",
            "|  GPU   GI   CI        PID   Type   Process name                              GPU Memory |\n",
            "|        ID   ID                                                               Usage      |\n",
            "|=========================================================================================|\n",
            "+-----------------------------------------------------------------------------------------+\n"
          ]
        }
      ]
    }
  ]
}